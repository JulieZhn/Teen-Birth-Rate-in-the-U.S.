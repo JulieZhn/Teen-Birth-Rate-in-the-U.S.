{
 "cells": [
  {
   "cell_type": "code",
   "execution_count": 92,
   "metadata": {},
   "outputs": [],
   "source": [
    "import pandas as pd\n",
    "\n",
    "df= pd.read_csv(r\"2022.txt\", sep=\" \", header=None, names=['County of Residence', 'County of Residence Code', 'Age of Mother 9',\t'Age of Mother 9 Code','Year','Year Code','Births'])\n",
    "#df\n",
    "\n",
    "#export the csv file\n",
    "#df.to_csv('2022.csv', index=False)\n",
    "\n",
    "#df2= pd.read_csv(r\"2022.txt\")\n",
    "#df2.to_csv('2022.csv', index=False)\n"
   ]
  },
  {
   "cell_type": "code",
   "execution_count": 50,
   "metadata": {},
   "outputs": [],
   "source": [
    "df3 = pd.read_csv('2022.txt', sep='\\t')\n",
    "df3\n",
    "df3.to_csv('2022.csv', index=False)"
   ]
  },
  {
   "cell_type": "code",
   "execution_count": 128,
   "metadata": {},
   "outputs": [
    {
     "data": {
      "text/html": [
       "<div>\n",
       "<style scoped>\n",
       "    .dataframe tbody tr th:only-of-type {\n",
       "        vertical-align: middle;\n",
       "    }\n",
       "\n",
       "    .dataframe tbody tr th {\n",
       "        vertical-align: top;\n",
       "    }\n",
       "\n",
       "    .dataframe thead th {\n",
       "        text-align: right;\n",
       "    }\n",
       "</style>\n",
       "<table border=\"1\" class=\"dataframe\">\n",
       "  <thead>\n",
       "    <tr style=\"text-align: right;\">\n",
       "      <th></th>\n",
       "      <th>County of Residence</th>\n",
       "      <th>County of Residence Code</th>\n",
       "      <th>Age of Mother 9</th>\n",
       "      <th>Age of Mother 9 Code</th>\n",
       "      <th>Year</th>\n",
       "      <th>Year Code</th>\n",
       "      <th>Births</th>\n",
       "    </tr>\n",
       "  </thead>\n",
       "  <tbody>\n",
       "    <tr>\n",
       "      <th>0</th>\n",
       "      <td>Baldwin County, AL</td>\n",
       "      <td>1003</td>\n",
       "      <td>15-19 years</td>\n",
       "      <td>15-19</td>\n",
       "      <td>2022</td>\n",
       "      <td>2022</td>\n",
       "      <td>120</td>\n",
       "    </tr>\n",
       "    <tr>\n",
       "      <th>1</th>\n",
       "      <td>Calhoun County, AL</td>\n",
       "      <td>1015</td>\n",
       "      <td>15-19 years</td>\n",
       "      <td>15-19</td>\n",
       "      <td>2022</td>\n",
       "      <td>2022</td>\n",
       "      <td>76</td>\n",
       "    </tr>\n",
       "    <tr>\n",
       "      <th>2</th>\n",
       "      <td>Etowah County, AL</td>\n",
       "      <td>1055</td>\n",
       "      <td>15-19 years</td>\n",
       "      <td>15-19</td>\n",
       "      <td>2022</td>\n",
       "      <td>2022</td>\n",
       "      <td>91</td>\n",
       "    </tr>\n",
       "    <tr>\n",
       "      <th>3</th>\n",
       "      <td>Houston County, AL</td>\n",
       "      <td>1069</td>\n",
       "      <td>15-19 years</td>\n",
       "      <td>15-19</td>\n",
       "      <td>2022</td>\n",
       "      <td>2022</td>\n",
       "      <td>105</td>\n",
       "    </tr>\n",
       "    <tr>\n",
       "      <th>4</th>\n",
       "      <td>Jefferson County, AL</td>\n",
       "      <td>1073</td>\n",
       "      <td>15-19 years</td>\n",
       "      <td>15-19</td>\n",
       "      <td>2022</td>\n",
       "      <td>2022</td>\n",
       "      <td>390</td>\n",
       "    </tr>\n",
       "    <tr>\n",
       "      <th>...</th>\n",
       "      <td>...</td>\n",
       "      <td>...</td>\n",
       "      <td>...</td>\n",
       "      <td>...</td>\n",
       "      <td>...</td>\n",
       "      <td>...</td>\n",
       "      <td>...</td>\n",
       "    </tr>\n",
       "    <tr>\n",
       "      <th>619</th>\n",
       "      <td>Washington County, WI</td>\n",
       "      <td>55131</td>\n",
       "      <td>15-19 years</td>\n",
       "      <td>15-19</td>\n",
       "      <td>2022</td>\n",
       "      <td>2022</td>\n",
       "      <td>19</td>\n",
       "    </tr>\n",
       "    <tr>\n",
       "      <th>620</th>\n",
       "      <td>Waukesha County, WI</td>\n",
       "      <td>55133</td>\n",
       "      <td>15-19 years</td>\n",
       "      <td>15-19</td>\n",
       "      <td>2022</td>\n",
       "      <td>2022</td>\n",
       "      <td>28</td>\n",
       "    </tr>\n",
       "    <tr>\n",
       "      <th>621</th>\n",
       "      <td>Winnebago County, WI</td>\n",
       "      <td>55139</td>\n",
       "      <td>15-19 years</td>\n",
       "      <td>15-19</td>\n",
       "      <td>2022</td>\n",
       "      <td>2022</td>\n",
       "      <td>44</td>\n",
       "    </tr>\n",
       "    <tr>\n",
       "      <th>622</th>\n",
       "      <td>Unidentified Counties, WI</td>\n",
       "      <td>55999</td>\n",
       "      <td>15-19 years</td>\n",
       "      <td>15-19</td>\n",
       "      <td>2022</td>\n",
       "      <td>2022</td>\n",
       "      <td>511</td>\n",
       "    </tr>\n",
       "    <tr>\n",
       "      <th>623</th>\n",
       "      <td>Unidentified Counties, WY</td>\n",
       "      <td>56999</td>\n",
       "      <td>15-19 years</td>\n",
       "      <td>15-19</td>\n",
       "      <td>2022</td>\n",
       "      <td>2022</td>\n",
       "      <td>300</td>\n",
       "    </tr>\n",
       "  </tbody>\n",
       "</table>\n",
       "<p>624 rows × 7 columns</p>\n",
       "</div>"
      ],
      "text/plain": [
       "           County of Residence  County of Residence Code Age of Mother 9  \\\n",
       "0           Baldwin County, AL                      1003     15-19 years   \n",
       "1           Calhoun County, AL                      1015     15-19 years   \n",
       "2            Etowah County, AL                      1055     15-19 years   \n",
       "3           Houston County, AL                      1069     15-19 years   \n",
       "4         Jefferson County, AL                      1073     15-19 years   \n",
       "..                         ...                       ...             ...   \n",
       "619      Washington County, WI                     55131     15-19 years   \n",
       "620        Waukesha County, WI                     55133     15-19 years   \n",
       "621       Winnebago County, WI                     55139     15-19 years   \n",
       "622  Unidentified Counties, WI                     55999     15-19 years   \n",
       "623  Unidentified Counties, WY                     56999     15-19 years   \n",
       "\n",
       "    Age of Mother 9 Code  Year  Year Code  Births  \n",
       "0                  15-19  2022       2022     120  \n",
       "1                  15-19  2022       2022      76  \n",
       "2                  15-19  2022       2022      91  \n",
       "3                  15-19  2022       2022     105  \n",
       "4                  15-19  2022       2022     390  \n",
       "..                   ...   ...        ...     ...  \n",
       "619                15-19  2022       2022      19  \n",
       "620                15-19  2022       2022      28  \n",
       "621                15-19  2022       2022      44  \n",
       "622                15-19  2022       2022     511  \n",
       "623                15-19  2022       2022     300  \n",
       "\n",
       "[624 rows x 7 columns]"
      ]
     },
     "execution_count": 128,
     "metadata": {},
     "output_type": "execute_result"
    }
   ],
   "source": [
    "#Import the csv file\n",
    "df4 = pd.read_csv('2022.csv')\n",
    "df4"
   ]
  },
  {
   "cell_type": "code",
   "execution_count": 129,
   "metadata": {},
   "outputs": [
    {
     "name": "stdout",
     "output_type": "stream",
     "text": [
      "Index(['County of Residence', 'County of Residence Code', 'Age of Mother 9',\n",
      "       'Age of Mother 9 Code', 'Year', 'Year Code', 'Births'],\n",
      "      dtype='object')\n"
     ]
    }
   ],
   "source": [
    "print(df4.columns)"
   ]
  },
  {
   "cell_type": "code",
   "execution_count": 130,
   "metadata": {},
   "outputs": [
    {
     "data": {
      "text/plain": [
       "0             Baldwin County, AL\n",
       "1             Calhoun County, AL\n",
       "2              Etowah County, AL\n",
       "3             Houston County, AL\n",
       "4           Jefferson County, AL\n",
       "                 ...            \n",
       "619        Washington County, WI\n",
       "620          Waukesha County, WI\n",
       "621         Winnebago County, WI\n",
       "622    Unidentified Counties, WI\n",
       "623    Unidentified Counties, WY\n",
       "Name: County of Residence, Length: 624, dtype: object"
      ]
     },
     "execution_count": 130,
     "metadata": {},
     "output_type": "execute_result"
    }
   ],
   "source": [
    "df4['County of Residence']"
   ]
  },
  {
   "cell_type": "code",
   "execution_count": 131,
   "metadata": {},
   "outputs": [
    {
     "data": {
      "text/html": [
       "<div>\n",
       "<style scoped>\n",
       "    .dataframe tbody tr th:only-of-type {\n",
       "        vertical-align: middle;\n",
       "    }\n",
       "\n",
       "    .dataframe tbody tr th {\n",
       "        vertical-align: top;\n",
       "    }\n",
       "\n",
       "    .dataframe thead th {\n",
       "        text-align: right;\n",
       "    }\n",
       "</style>\n",
       "<table border=\"1\" class=\"dataframe\">\n",
       "  <thead>\n",
       "    <tr style=\"text-align: right;\">\n",
       "      <th></th>\n",
       "      <th>County of Residence</th>\n",
       "      <th>County of Residence Code</th>\n",
       "      <th>Age of Mother 9</th>\n",
       "      <th>Age of Mother 9 Code</th>\n",
       "      <th>Year</th>\n",
       "      <th>Year Code</th>\n",
       "      <th>Births</th>\n",
       "      <th>County</th>\n",
       "      <th>State</th>\n",
       "    </tr>\n",
       "  </thead>\n",
       "  <tbody>\n",
       "    <tr>\n",
       "      <th>0</th>\n",
       "      <td>Baldwin County, AL</td>\n",
       "      <td>1003</td>\n",
       "      <td>15-19 years</td>\n",
       "      <td>15-19</td>\n",
       "      <td>2022</td>\n",
       "      <td>2022</td>\n",
       "      <td>120</td>\n",
       "      <td>Baldwin County</td>\n",
       "      <td>AL</td>\n",
       "    </tr>\n",
       "    <tr>\n",
       "      <th>1</th>\n",
       "      <td>Calhoun County, AL</td>\n",
       "      <td>1015</td>\n",
       "      <td>15-19 years</td>\n",
       "      <td>15-19</td>\n",
       "      <td>2022</td>\n",
       "      <td>2022</td>\n",
       "      <td>76</td>\n",
       "      <td>Calhoun County</td>\n",
       "      <td>AL</td>\n",
       "    </tr>\n",
       "    <tr>\n",
       "      <th>2</th>\n",
       "      <td>Etowah County, AL</td>\n",
       "      <td>1055</td>\n",
       "      <td>15-19 years</td>\n",
       "      <td>15-19</td>\n",
       "      <td>2022</td>\n",
       "      <td>2022</td>\n",
       "      <td>91</td>\n",
       "      <td>Etowah County</td>\n",
       "      <td>AL</td>\n",
       "    </tr>\n",
       "    <tr>\n",
       "      <th>3</th>\n",
       "      <td>Houston County, AL</td>\n",
       "      <td>1069</td>\n",
       "      <td>15-19 years</td>\n",
       "      <td>15-19</td>\n",
       "      <td>2022</td>\n",
       "      <td>2022</td>\n",
       "      <td>105</td>\n",
       "      <td>Houston County</td>\n",
       "      <td>AL</td>\n",
       "    </tr>\n",
       "    <tr>\n",
       "      <th>4</th>\n",
       "      <td>Jefferson County, AL</td>\n",
       "      <td>1073</td>\n",
       "      <td>15-19 years</td>\n",
       "      <td>15-19</td>\n",
       "      <td>2022</td>\n",
       "      <td>2022</td>\n",
       "      <td>390</td>\n",
       "      <td>Jefferson County</td>\n",
       "      <td>AL</td>\n",
       "    </tr>\n",
       "    <tr>\n",
       "      <th>...</th>\n",
       "      <td>...</td>\n",
       "      <td>...</td>\n",
       "      <td>...</td>\n",
       "      <td>...</td>\n",
       "      <td>...</td>\n",
       "      <td>...</td>\n",
       "      <td>...</td>\n",
       "      <td>...</td>\n",
       "      <td>...</td>\n",
       "    </tr>\n",
       "    <tr>\n",
       "      <th>619</th>\n",
       "      <td>Washington County, WI</td>\n",
       "      <td>55131</td>\n",
       "      <td>15-19 years</td>\n",
       "      <td>15-19</td>\n",
       "      <td>2022</td>\n",
       "      <td>2022</td>\n",
       "      <td>19</td>\n",
       "      <td>Washington County</td>\n",
       "      <td>WI</td>\n",
       "    </tr>\n",
       "    <tr>\n",
       "      <th>620</th>\n",
       "      <td>Waukesha County, WI</td>\n",
       "      <td>55133</td>\n",
       "      <td>15-19 years</td>\n",
       "      <td>15-19</td>\n",
       "      <td>2022</td>\n",
       "      <td>2022</td>\n",
       "      <td>28</td>\n",
       "      <td>Waukesha County</td>\n",
       "      <td>WI</td>\n",
       "    </tr>\n",
       "    <tr>\n",
       "      <th>621</th>\n",
       "      <td>Winnebago County, WI</td>\n",
       "      <td>55139</td>\n",
       "      <td>15-19 years</td>\n",
       "      <td>15-19</td>\n",
       "      <td>2022</td>\n",
       "      <td>2022</td>\n",
       "      <td>44</td>\n",
       "      <td>Winnebago County</td>\n",
       "      <td>WI</td>\n",
       "    </tr>\n",
       "    <tr>\n",
       "      <th>622</th>\n",
       "      <td>Unidentified Counties, WI</td>\n",
       "      <td>55999</td>\n",
       "      <td>15-19 years</td>\n",
       "      <td>15-19</td>\n",
       "      <td>2022</td>\n",
       "      <td>2022</td>\n",
       "      <td>511</td>\n",
       "      <td>Unidentified Counties</td>\n",
       "      <td>WI</td>\n",
       "    </tr>\n",
       "    <tr>\n",
       "      <th>623</th>\n",
       "      <td>Unidentified Counties, WY</td>\n",
       "      <td>56999</td>\n",
       "      <td>15-19 years</td>\n",
       "      <td>15-19</td>\n",
       "      <td>2022</td>\n",
       "      <td>2022</td>\n",
       "      <td>300</td>\n",
       "      <td>Unidentified Counties</td>\n",
       "      <td>WY</td>\n",
       "    </tr>\n",
       "  </tbody>\n",
       "</table>\n",
       "<p>624 rows × 9 columns</p>\n",
       "</div>"
      ],
      "text/plain": [
       "           County of Residence  County of Residence Code Age of Mother 9  \\\n",
       "0           Baldwin County, AL                      1003     15-19 years   \n",
       "1           Calhoun County, AL                      1015     15-19 years   \n",
       "2            Etowah County, AL                      1055     15-19 years   \n",
       "3           Houston County, AL                      1069     15-19 years   \n",
       "4         Jefferson County, AL                      1073     15-19 years   \n",
       "..                         ...                       ...             ...   \n",
       "619      Washington County, WI                     55131     15-19 years   \n",
       "620        Waukesha County, WI                     55133     15-19 years   \n",
       "621       Winnebago County, WI                     55139     15-19 years   \n",
       "622  Unidentified Counties, WI                     55999     15-19 years   \n",
       "623  Unidentified Counties, WY                     56999     15-19 years   \n",
       "\n",
       "    Age of Mother 9 Code  Year  Year Code  Births                 County State  \n",
       "0                  15-19  2022       2022     120         Baldwin County    AL  \n",
       "1                  15-19  2022       2022      76         Calhoun County    AL  \n",
       "2                  15-19  2022       2022      91          Etowah County    AL  \n",
       "3                  15-19  2022       2022     105         Houston County    AL  \n",
       "4                  15-19  2022       2022     390       Jefferson County    AL  \n",
       "..                   ...   ...        ...     ...                    ...   ...  \n",
       "619                15-19  2022       2022      19      Washington County    WI  \n",
       "620                15-19  2022       2022      28        Waukesha County    WI  \n",
       "621                15-19  2022       2022      44       Winnebago County    WI  \n",
       "622                15-19  2022       2022     511  Unidentified Counties    WI  \n",
       "623                15-19  2022       2022     300  Unidentified Counties    WY  \n",
       "\n",
       "[624 rows x 9 columns]"
      ]
     },
     "execution_count": 131,
     "metadata": {},
     "output_type": "execute_result"
    }
   ],
   "source": [
    "#Split 'County of Residence' into 'County' and 'State'\n",
    "df4[['County', 'State']] = df4['County of Residence'].str.rsplit(',', n=1, expand=True)\n",
    "df4"
   ]
  },
  {
   "cell_type": "code",
   "execution_count": 132,
   "metadata": {},
   "outputs": [
    {
     "name": "stdout",
     "output_type": "stream",
     "text": [
      "     County of Residence Code Age of Mother 9 Age of Mother 9 Code  Year  \\\n",
      "0                        1003     15-19 years                15-19  2022   \n",
      "1                        1015     15-19 years                15-19  2022   \n",
      "2                        1055     15-19 years                15-19  2022   \n",
      "3                        1069     15-19 years                15-19  2022   \n",
      "4                        1073     15-19 years                15-19  2022   \n",
      "..                        ...             ...                  ...   ...   \n",
      "619                     55131     15-19 years                15-19  2022   \n",
      "620                     55133     15-19 years                15-19  2022   \n",
      "621                     55139     15-19 years                15-19  2022   \n",
      "622                     55999     15-19 years                15-19  2022   \n",
      "623                     56999     15-19 years                15-19  2022   \n",
      "\n",
      "     Year Code  Births                 County State  \n",
      "0         2022     120         Baldwin County    AL  \n",
      "1         2022      76         Calhoun County    AL  \n",
      "2         2022      91          Etowah County    AL  \n",
      "3         2022     105         Houston County    AL  \n",
      "4         2022     390       Jefferson County    AL  \n",
      "..         ...     ...                    ...   ...  \n",
      "619       2022      19      Washington County    WI  \n",
      "620       2022      28        Waukesha County    WI  \n",
      "621       2022      44       Winnebago County    WI  \n",
      "622       2022     511  Unidentified Counties    WI  \n",
      "623       2022     300  Unidentified Counties    WY  \n",
      "\n",
      "[624 rows x 8 columns]\n"
     ]
    }
   ],
   "source": [
    "#drop the 'County of Residence' column\n",
    "df5 = df4.drop(['County of Residence'], axis=1)\n",
    "\n",
    "#show the new dataframe\n",
    "print(df5)"
   ]
  },
  {
   "cell_type": "code",
   "execution_count": 143,
   "metadata": {},
   "outputs": [],
   "source": [
    "df5.to_csv('county_birth_number.csv', index=False)"
   ]
  },
  {
   "cell_type": "markdown",
   "metadata": {},
   "source": [
    "## Bring ACS"
   ]
  },
  {
   "cell_type": "code",
   "execution_count": 133,
   "metadata": {},
   "outputs": [],
   "source": [
    "%load_ext rpy2.ipython\n",
    "%load_ext autoreload\n",
    "%autoreload 2\n",
    "\n",
    "%matplotlib inline  \n",
    "from matplotlib import rcParams\n",
    "rcParams['figure.figsize'] = (16, 100)\n",
    "\n",
    "import warnings\n",
    "from rpy2.rinterface import RRuntimeWarning\n",
    "warnings.filterwarnings(\"ignore\") # Ignore all warnings\n",
    "# warnings.filterwarnings(\"ignore\", category=RRuntimeWarning) # Show some warnings\n",
    "\n",
    "import pandas as pd\n",
    "import numpy as np\n",
    "import matplotlib.pyplot as plt\n",
    "from IPython.display import display, HTML"
   ]
  },
  {
   "cell_type": "code",
   "execution_count": 134,
   "metadata": {},
   "outputs": [
    {
     "data": {
      "application/javascript": "// Disable auto-scrolling\nIPython.OutputArea.prototype._should_scroll = function(lines) {\n    return false;\n",
      "text/plain": [
       "<IPython.core.display.Javascript object>"
      ]
     },
     "metadata": {},
     "output_type": "display_data"
    }
   ],
   "source": [
    "%%javascript\n",
    "// Disable auto-scrolling\n",
    "IPython.OutputArea.prototype._should_scroll = function(lines) {\n",
    "    return false;"
   ]
  },
  {
   "cell_type": "code",
   "execution_count": 135,
   "metadata": {},
   "outputs": [],
   "source": [
    "import requests"
   ]
  },
  {
   "cell_type": "code",
   "execution_count": 136,
   "metadata": {},
   "outputs": [
    {
     "name": "stdout",
     "output_type": "stream",
     "text": [
      "── Attaching core tidyverse packages ──────────────────────── tidyverse 2.0.0 ──\n",
      "✔ dplyr     1.1.4     ✔ readr     2.1.5\n",
      "✔ forcats   1.0.0     ✔ stringr   1.5.1\n",
      "✔ ggplot2   3.5.0     ✔ tibble    3.2.1\n",
      "✔ lubridate 1.9.3     ✔ tidyr     1.3.0\n",
      "✔ purrr     1.0.2     \n",
      "── Conflicts ────────────────────────────────────────── tidyverse_conflicts() ──\n",
      "✖ dplyr::filter() masks stats::filter()\n",
      "✖ dplyr::lag()    masks stats::lag()\n",
      "ℹ Use the conflicted package (<http://conflicted.r-lib.org/>) to force all conflicts to become errors\n"
     ]
    },
    {
     "data": {
      "text/plain": [
       "Loading required package: tidycensus\n",
       "Loading required package: tidyverse\n"
      ]
     },
     "metadata": {},
     "output_type": "display_data"
    }
   ],
   "source": [
    "%%R\n",
    "require('tidycensus')\n",
    "require('tidyverse')\n"
   ]
  },
  {
   "cell_type": "code",
   "execution_count": 137,
   "metadata": {},
   "outputs": [
    {
     "name": "stdout",
     "output_type": "stream",
     "text": [
      "  |======================================================================| 100%\n",
      "Simple feature collection with 6442 features and 5 fields\n",
      "Geometry type: MULTIPOLYGON\n",
      "Dimension:     XY\n",
      "Bounding box:  xmin: -179.1489 ymin: 17.88328 xmax: 179.7785 ymax: 71.36516\n",
      "Geodetic CRS:  NAD83\n",
      "First 10 features:\n",
      "   GEOID                      NAME      variable estimate moe\n",
      "1  20161      Riley County, Kansas females_15_17      998 165\n",
      "2  20161      Riley County, Kansas females_18_19     2857 198\n",
      "3  19159     Ringgold County, Iowa females_15_17      111  16\n",
      "4  19159     Ringgold County, Iowa females_18_19       58  25\n",
      "5  30009    Carbon County, Montana females_15_17      168   7\n",
      "6  30009    Carbon County, Montana females_18_19       71  17\n",
      "7  16007   Bear Lake County, Idaho females_15_17      156  10\n",
      "8  16007   Bear Lake County, Idaho females_18_19       66  32\n",
      "9  55011 Buffalo County, Wisconsin females_15_17      267  15\n",
      "10 55011 Buffalo County, Wisconsin females_18_19      114   5\n",
      "                         geometry\n",
      "1  MULTIPOLYGON (((-96.96095 3...\n",
      "2  MULTIPOLYGON (((-96.96095 3...\n",
      "3  MULTIPOLYGON (((-94.47167 4...\n",
      "4  MULTIPOLYGON (((-94.47167 4...\n",
      "5  MULTIPOLYGON (((-109.7987 4...\n",
      "6  MULTIPOLYGON (((-109.7987 4...\n",
      "7  MULTIPOLYGON (((-111.6345 4...\n",
      "8  MULTIPOLYGON (((-111.6345 4...\n",
      "9  MULTIPOLYGON (((-92.08384 4...\n",
      "10 MULTIPOLYGON (((-92.08384 4...\n"
     ]
    },
    {
     "data": {
      "text/plain": [
       "Your original .Renviron will be backed up and stored in your R HOME directory if needed.\n",
       "Your API key has been stored in your .Renviron and can be accessed by Sys.getenv(\"CENSUS_API_KEY\"). \n",
       "To use now, restart R or run `readRenviron(\"~/.Renviron\")`\n",
       "Getting data from the 2017-2021 5-year ACS\n",
       "Downloading feature geometry from the Census website.  To cache shapefiles for use in future sessions, set `options(tigris_use_cache = TRUE)`.\n"
      ]
     },
     "metadata": {},
     "output_type": "display_data"
    }
   ],
   "source": [
    "%%R \n",
    "\n",
    "census_api_key(\"dd8b155c715d82789ee1e115fbe728f203b25e30\", install = TRUE, overwrite = TRUE)\n",
    "\n",
    "# Get variable from ACS\n",
    "census_data <- get_acs(\n",
    "  geography = \"county\",\n",
    "  variables = c(\n",
    "    females_15_17 = \"B01001_030\",\n",
    "    females_18_19 = \"B01001_031\"\n",
    "  ),\n",
    "  year = 2021,\n",
    "  survey = \"acs5\",\n",
    "  geometry = TRUE\n",
    ")\n",
    "\n",
    "census_data"
   ]
  },
  {
   "cell_type": "code",
   "execution_count": 138,
   "metadata": {},
   "outputs": [
    {
     "name": "stdout",
     "output_type": "stream",
     "text": [
      "[1] \"GEOID\"    \"NAME\"     \"variable\" \"estimate\" \"moe\"      \"geometry\"\n"
     ]
    }
   ],
   "source": [
    "%%R\n",
    "#show column names\n",
    "names(census_data)"
   ]
  },
  {
   "cell_type": "code",
   "execution_count": 140,
   "metadata": {},
   "outputs": [
    {
     "name": "stdout",
     "output_type": "stream",
     "text": [
      "`summarise()` has grouped output by 'GEOID'. You can override using the\n",
      "`.groups` argument.\n",
      "Simple feature collection with 3221 features and 3 fields\n",
      "Geometry type: MULTIPOLYGON\n",
      "Dimension:     XY\n",
      "Bounding box:  xmin: -179.1489 ymin: 17.88328 xmax: 179.7785 ymax: 71.36516\n",
      "Geodetic CRS:  NAD83\n",
      "# A tibble: 3,221 × 4\n",
      "   GEOID NAME                   female_15_19_populat…¹                  geometry\n",
      "   <chr> <chr>                                   <dbl>        <MULTIPOLYGON [°]>\n",
      " 1 01001 Autauga County, Alaba…                   2147 (((-86.9212 32.65754, -8…\n",
      " 2 01003 Baldwin County, Alaba…                   6812 (((-88.02858 30.22676, -…\n",
      " 3 01005 Barbour County, Alaba…                    655 (((-85.74803 31.61918, -…\n",
      " 4 01007 Bibb County, Alabama                      628 (((-87.42194 33.00338, -…\n",
      " 5 01009 Blount County, Alabama                   1584 (((-86.96336 33.85822, -…\n",
      " 6 01011 Bullock County, Alaba…                    258 (((-85.99916 32.25054, -…\n",
      " 7 01013 Butler County, Alabama                    549 (((-86.90894 31.96167, -…\n",
      " 8 01015 Calhoun County, Alaba…                   3973 (((-86.14623 33.70218, -…\n",
      " 9 01017 Chambers County, Alab…                    971 (((-85.59343 32.89727, -…\n",
      "10 01019 Cherokee County, Alab…                    716 (((-85.84384 34.24345, -…\n",
      "# ℹ 3,211 more rows\n",
      "# ℹ abbreviated name: ¹​female_15_19_population\n",
      "# ℹ Use `print(n = ...)` to see more rows\n"
     ]
    }
   ],
   "source": [
    "%%R\n",
    "df_combined <- census_data %>%\n",
    "  group_by(GEOID, NAME) %>%\n",
    "  summarise(female_15_19_population = sum(estimate, na.rm = TRUE),\n",
    "            geometry = first(geometry)) %>%\n",
    "  ungroup()\n",
    "\n",
    "df_combined"
   ]
  },
  {
   "cell_type": "code",
   "execution_count": 141,
   "metadata": {},
   "outputs": [
    {
     "name": "stdout",
     "output_type": "stream",
     "text": [
      "Simple feature collection with 6 features and 4 fields\n",
      "Geometry type: MULTIPOLYGON\n",
      "Dimension:     XY\n",
      "Bounding box:  xmin: -88.02858 ymin: 30.22333 xmax: -85.04931 ymax: 34.26017\n",
      "Geodetic CRS:  NAD83\n",
      "# A tibble: 6 × 5\n",
      "  GEOID county         state female_15_19_population                    geometry\n",
      "  <chr> <chr>          <chr>                   <dbl>          <MULTIPOLYGON [°]>\n",
      "1 01001 Autauga County AL                       2147 (((-86.9212 32.65754, -86.…\n",
      "2 01003 Baldwin County AL                       6812 (((-88.02858 30.22676, -88…\n",
      "3 01005 Barbour County AL                        655 (((-85.74803 31.61918, -85…\n",
      "4 01007 Bibb County    AL                        628 (((-87.42194 33.00338, -87…\n",
      "5 01009 Blount County  AL                       1584 (((-86.96336 33.85822, -86…\n",
      "6 01011 Bullock County AL                        258 (((-85.99916 32.25054, -85…\n"
     ]
    }
   ],
   "source": [
    "%%R\n",
    "library(dplyr)\n",
    "library(stringr)\n",
    "library(datasets)\n",
    "\n",
    "# Load the state abbreviations data\n",
    "data(state)\n",
    "state_abbrev <- data.frame(\n",
    "  state_name = state.name,\n",
    "  state_abbr = state.abb\n",
    ")\n",
    "\n",
    "# Function to get state abbreviation\n",
    "get_state_abbr <- function(state_name) {\n",
    "  abbr <- state_abbrev$state_abbr[match(state_name, state_abbrev$state_name)]\n",
    "  return(ifelse(is.na(abbr), state_name, abbr))\n",
    "}\n",
    "\n",
    "# Split the NAME column and convert state to abbreviation\n",
    "df_split <- df_combined %>%\n",
    "  mutate(\n",
    "    county = str_replace(NAME, \", .*$\", \"\"),\n",
    "    state_full = str_extract(NAME, \"[^,]+$\") %>% str_trim(),\n",
    "    state = sapply(state_full, get_state_abbr)\n",
    "  ) %>%\n",
    "  select(-NAME, -state_full)  # Remove original NAME and intermediate state_full columns\n",
    "\n",
    "# Reorder columns\n",
    "df_split <- df_split %>%\n",
    "  select(GEOID, county, state, female_15_19_population, geometry)\n",
    "\n",
    "# Display the first few rows of the result\n",
    "print(head(df_split))"
   ]
  },
  {
   "cell_type": "code",
   "execution_count": 144,
   "metadata": {},
   "outputs": [
    {
     "name": "stdout",
     "output_type": "stream",
     "text": [
      "Rows: 624 Columns: 8\n",
      "── Column specification ────────────────────────────────────────────────────────\n",
      "Delimiter: \",\"\n",
      "chr (4): Age of Mother 9, Age of Mother 9 Code, County, State\n",
      "dbl (4): County of Residence Code, Year, Year Code, Births\n",
      "\n",
      "ℹ Use `spec()` to retrieve the full column specification for this data.\n",
      "ℹ Specify the column types or set `show_col_types = FALSE` to quiet this message.\n"
     ]
    }
   ],
   "source": [
    "%%R\n",
    "library(readr)\n",
    "df5 <- read_csv('county_birth_number.csv')\n"
   ]
  },
  {
   "cell_type": "code",
   "execution_count": 146,
   "metadata": {},
   "outputs": [
    {
     "name": "stdout",
     "output_type": "stream",
     "text": [
      "# A tibble: 6 × 11\n",
      "  `County of Residence Code` `Age of Mother 9` `Age of Mother 9 Code`  Year\n",
      "                       <dbl> <chr>             <chr>                  <dbl>\n",
      "1                       1003 15-19 years       15-19                   2022\n",
      "2                       1015 15-19 years       15-19                   2022\n",
      "3                       1055 15-19 years       15-19                   2022\n",
      "4                       1069 15-19 years       15-19                   2022\n",
      "5                       1073 15-19 years       15-19                   2022\n",
      "6                       1081 15-19 years       15-19                   2022\n",
      "# ℹ 7 more variables: `Year Code` <dbl>, Births <dbl>, County <chr>,\n",
      "#   State <chr>, GEOID <chr>, female_15_19_population <dbl>,\n",
      "#   geometry <MULTIPOLYGON [°]>\n"
     ]
    }
   ],
   "source": [
    "%%R\n",
    "#now merge the two dataframes by county by state\n",
    "df_merged <- left_join(df5, df_split, by = c(\"County\" = \"county\", \"State\" = \"state\"))\n",
    "print(head(df_merged))"
   ]
  },
  {
   "cell_type": "code",
   "execution_count": 147,
   "metadata": {},
   "outputs": [
    {
     "name": "stdout",
     "output_type": "stream",
     "text": [
      " [1] \"County of Residence Code\" \"Age of Mother 9\"         \n",
      " [3] \"Age of Mother 9 Code\"     \"Year\"                    \n",
      " [5] \"Year Code\"                \"Births\"                  \n",
      " [7] \"County\"                   \"State\"                   \n",
      " [9] \"GEOID\"                    \"female_15_19_population\" \n",
      "[11] \"geometry\"                \n"
     ]
    }
   ],
   "source": [
    "%%R\n",
    "print(colnames(df_merged))"
   ]
  },
  {
   "cell_type": "code",
   "execution_count": 154,
   "metadata": {},
   "outputs": [],
   "source": [
    "%%R\n",
    "# Calculate birth rate in per 1000 people\n",
    "df_with_rate <- df_merged %>%\n",
    "  mutate(birth_rate = Births / female_15_19_population * 1000)"
   ]
  },
  {
   "cell_type": "code",
   "execution_count": 155,
   "metadata": {},
   "outputs": [],
   "source": [
    "%%R\n",
    "# Round the birth rate to 2 decimal places for readability\n",
    "df_with_rate <- df_with_rate %>%\n",
    "  mutate(birth_rate = round(birth_rate, 2))\n"
   ]
  },
  {
   "cell_type": "code",
   "execution_count": 156,
   "metadata": {},
   "outputs": [],
   "source": [
    "%%R\n",
    "new_df <- df_with_rate %>%\n",
    "  select(County, State, Births, female_15_19_population, birth_rate)"
   ]
  },
  {
   "cell_type": "code",
   "execution_count": 157,
   "metadata": {},
   "outputs": [
    {
     "name": "stdout",
     "output_type": "stream",
     "text": [
      "# A tibble: 6 × 5\n",
      "  County           State Births female_15_19_population birth_rate\n",
      "  <chr>            <chr>  <dbl>                   <dbl>      <dbl>\n",
      "1 Baldwin County   AL       120                    6812       17.6\n",
      "2 Calhoun County   AL        76                    3973       19.1\n",
      "3 Etowah County    AL        91                    3060       29.7\n",
      "4 Houston County   AL       105                    3214       32.7\n",
      "5 Jefferson County AL       390                   21384       18.2\n",
      "6 Lee County       AL        83                    7699       10.8\n"
     ]
    }
   ],
   "source": [
    "%%R\n",
    "print(head(new_df))"
   ]
  },
  {
   "cell_type": "code",
   "execution_count": 158,
   "metadata": {},
   "outputs": [],
   "source": [
    "%%R\n",
    "write.csv(new_df, \"county_birth_rate.csv\", row.names = FALSE)"
   ]
  },
  {
   "cell_type": "markdown",
   "metadata": {},
   "source": [
    "# Bring political affiliations"
   ]
  },
  {
   "cell_type": "markdown",
   "metadata": {},
   "source": []
  }
 ],
 "metadata": {
  "kernelspec": {
   "display_name": "Python 3",
   "language": "python",
   "name": "python3"
  },
  "language_info": {
   "codemirror_mode": {
    "name": "ipython",
    "version": 3
   },
   "file_extension": ".py",
   "mimetype": "text/x-python",
   "name": "python",
   "nbconvert_exporter": "python",
   "pygments_lexer": "ipython3",
   "version": "3.11.6"
  }
 },
 "nbformat": 4,
 "nbformat_minor": 2
}
